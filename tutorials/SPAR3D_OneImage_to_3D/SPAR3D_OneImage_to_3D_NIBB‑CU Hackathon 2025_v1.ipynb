{
  "cells": [
    {
      "cell_type": "markdown",
      "id": "313c1a53",
      "metadata": {
        "id": "313c1a53"
      },
      "source": [
        "# 📘 1枚画像 → 3Dメッシュ（SPAR3D）Colab ノートブック（安定版 v1）\n",
        "\n",
        "- 表示の安定化（`/files` → Blob 経由）\n",
        "- `transparent-background>=1.3.4` / `run.py` Hotfix を自動適用"
      ]
    },
    {
      "cell_type": "markdown",
      "id": "86b28952",
      "metadata": {
        "id": "86b28952"
      },
      "source": [
        "## Step 0 — GPU 確認"
      ]
    },
    {
      "cell_type": "code",
      "execution_count": null,
      "id": "fec9064a",
      "metadata": {
        "id": "fec9064a"
      },
      "outputs": [],
      "source": [
        "!nvidia-smi || echo 'No GPU?'"
      ]
    },
    {
      "cell_type": "markdown",
      "id": "40f36dfb",
      "metadata": {
        "id": "40f36dfb"
      },
      "source": [
        "## Step 1 — 依存のセットアップとリポジトリ取得"
      ]
    },
    {
      "cell_type": "code",
      "execution_count": null,
      "id": "1a574ecf",
      "metadata": {
        "id": "1a574ecf"
      },
      "outputs": [],
      "source": [
        "%env NO_ALBUMENTATIONS_UPDATE=1\n",
        "!pip -q install -U pip wheel \"setuptools==69.5.1\" ninja cmake\n",
        "\n",
        "!git clone -q https://github.com/Stability-AI/stable-point-aware-3d.git\n",
        "%cd stable-point-aware-3d\n",
        "\n",
        "!pip -q install -r requirements.txt\n",
        "!pip -q install -U \"transparent-background>=1.3.4\"\n",
        "\n",
        "# （任意）高品質リメッシュ\n",
        "# !pip -q install gpytoolbox pynanoinstantmeshes==0.0.3\n",
        "# !pip -q install -r requirements-remesh.txt"
      ]
    },
    {
      "cell_type": "markdown",
      "id": "8093ee77",
      "metadata": {
        "id": "8093ee77"
      },
      "source": [
        "## Step 2 — Hugging Face にログイン（トークン貼付）"
      ]
    },
    {
      "cell_type": "code",
      "execution_count": null,
      "id": "1de31ec2",
      "metadata": {
        "id": "1de31ec2"
      },
      "outputs": [],
      "source": [
        "from huggingface_hub import login\n",
        "login()"
      ]
    },
    {
      "cell_type": "markdown",
      "id": "f4247927",
      "metadata": {
        "id": "f4247927"
      },
      "source": [
        "## Step 3 — 入力画像アップロード → 512×512 に整形"
      ]
    },
    {
      "cell_type": "code",
      "execution_count": null,
      "id": "d3aca896",
      "metadata": {
        "id": "d3aca896"
      },
      "outputs": [],
      "source": [
        "from google.colab import files\n",
        "from PIL import Image\n",
        "import os\n",
        "\n",
        "uploaded = files.upload()\n",
        "in_name = list(uploaded.keys())[0]\n",
        "\n",
        "img = Image.open(in_name).convert(\"RGB\")\n",
        "w, h = img.size\n",
        "size = max(w, h)\n",
        "canvas = Image.new(\"RGB\", (size, size), (255, 255, 255))\n",
        "canvas.paste(img, ((size - w)//2, (size - h)//2))\n",
        "\n",
        "img512 = canvas.resize((512, 512), Image.LANCZOS)\n",
        "os.makedirs(\"inputs\", exist_ok=True)\n",
        "prep_path = \"inputs/input_512.png\"\n",
        "img512.save(prep_path)\n",
        "print(\"Prepared:\", prep_path, \"->\", img512.size)"
      ]
    },
    {
      "cell_type": "markdown",
      "id": "5b42c5ab",
      "metadata": {
        "id": "5b42c5ab"
      },
      "source": [
        "## Step 4 — 安定動作用 Hotfix（`run.py` に小修正を注入）"
      ]
    },
    {
      "cell_type": "code",
      "execution_count": null,
      "id": "b5026f71",
      "metadata": {
        "id": "b5026f71"
      },
      "outputs": [],
      "source": [
        "from pathlib import Path\n",
        "p = Path(\"run.py\")\n",
        "s = p.read_text()\n",
        "\n",
        "inject = \"\"\"\n",
        "# --- Hotfix: ensure defaults when remeshing backends are missing ---\n",
        "if not hasattr(args, \"reduction_count_type\"):\n",
        "    args.reduction_count_type = \"keep\"\n",
        "if not hasattr(args, \"target_count\"):\n",
        "    args.target_count = 2000\n",
        "# --- End hotfix ---\n",
        "\"\"\"\n",
        "\n",
        "if \"Hotfix: ensure defaults\" not in s:\n",
        "    s = s.replace(\"args = parser.parse_args()\", \"args = parser.parse_args()\" + inject)\n",
        "    p.write_text(s)\n",
        "    print(\"run.py に Hotfix を適用しました。\")\n",
        "else:\n",
        "    print(\"Hotfix は既に適用済みです。\")"
      ]
    },
    {
      "cell_type": "markdown",
      "id": "a661bbee",
      "metadata": {
        "id": "a661bbee"
      },
      "source": [
        "## Step 5 — 推論（.glb 生成）"
      ]
    },
    {
      "cell_type": "code",
      "execution_count": null,
      "id": "d77ed380",
      "metadata": {
        "id": "d77ed380"
      },
      "outputs": [],
      "source": [
        "# %env SPAR3D_LOW_VRAM=1  # 省メモリが必要なら有効化\n",
        "!mkdir -p outputs\n",
        "!python run.py inputs/input_512.png --output-dir outputs --texture-resolution 1024 --remesh_option none"
      ]
    },
    {
      "cell_type": "markdown",
      "id": "44bbcb0f",
      "metadata": {
        "id": "44bbcb0f"
      },
      "source": [
        "## Step 6 — 生成ファイルの検出"
      ]
    },
    {
      "cell_type": "code",
      "execution_count": null,
      "id": "532b6934",
      "metadata": {
        "id": "532b6934"
      },
      "outputs": [],
      "source": [
        "import glob, os\n",
        "candidates = sorted(glob.glob(\"outputs/**/*.glb\", recursive=True), key=os.path.getmtime)\n",
        "assert candidates, \"GLBが見つかりません。ログを確認してください。\"\n",
        "glb_path = candidates[-1]\n",
        "abs_glb = os.path.abspath(glb_path)\n",
        "print(\"GLB:\", glb_path)\n",
        "print(\"ABS:\", abs_glb)"
      ]
    },
    {
      "cell_type": "markdown",
      "id": "49d6ff1c",
      "metadata": {
        "id": "49d6ff1c"
      },
      "source": [
        "## Step 7 — プレビュー（`<model-viewer>`：Blob経由で読込）"
      ]
    },
    {
      "cell_type": "code",
      "execution_count": null,
      "id": "224bc9b3",
      "metadata": {
        "id": "224bc9b3"
      },
      "outputs": [],
      "source": [
        "from IPython.display import HTML, display\n",
        "html = f\"\"\"\n",
        "<div id='mv_wrap' style='width:100%;height:520px;background:#f4f4f4;border-radius:8px;'></div>\n",
        "<script type=\"module\">\n",
        "  import \"https://unpkg.com/@google/model-viewer/dist/model-viewer.min.js\";\n",
        "  const wrap = document.getElementById('mv_wrap');\n",
        "  const mv = document.createElement('model-viewer');\n",
        "  mv.setAttribute('camera-controls', '');\n",
        "  mv.setAttribute('auto-rotate', '');\n",
        "  mv.setAttribute('shadow-intensity', '1');\n",
        "  mv.style.width = '100%';\n",
        "  mv.style.height = '100%';\n",
        "  wrap.appendChild(mv);\n",
        "\n",
        "  async function loadGLB() {{\n",
        "    const r = await fetch(\"/files{abs_glb}\");\n",
        "    if (!r.ok) throw new Error('fetch failed: ' + r.status);\n",
        "    const buf = await r.arrayBuffer();\n",
        "    const url = URL.createObjectURL(new Blob([buf], {{type: \"model/gltf-binary\"}}));\n",
        "    mv.src = url;\n",
        "  }}\n",
        "  loadGLB().catch(e => {{\n",
        "    wrap.innerHTML = '<div style=\"padding:16px;color:#b00\">model-viewer 読み込みに失敗: '+e+'</div>';\n",
        "    console.error(e);\n",
        "  }});\n",
        "</script>\n",
        "<p style=\"margin:8px 0 0 0;\">Path: <code>{abs_glb}</code></p>\n",
        "\"\"\"\n",
        "display(HTML(html))"
      ]
    },
    {
      "cell_type": "markdown",
      "id": "8fec3fef",
      "metadata": {
        "id": "8fec3fef"
      },
      "source": [
        "## Step 8 — メッシュとテクスチャの統計"
      ]
    },
    {
      "cell_type": "code",
      "execution_count": null,
      "id": "f55ad976",
      "metadata": {
        "id": "f55ad976"
      },
      "outputs": [],
      "source": [
        "import struct, json, base64, io, os\n",
        "from PIL import Image\n",
        "from IPython.display import display, Markdown, HTML\n",
        "\n",
        "def parse_glb(glb_path):\n",
        "    with open(glb_path, \"rb\") as f:\n",
        "        data = f.read()\n",
        "    assert data[:4] == b'glTF', \"Not a GLB\"\n",
        "    version = struct.unpack_from(\"<I\", data, 4)[0]\n",
        "    assert version == 2, f\"glTF version: {version}\"\n",
        "    json_length = struct.unpack_from(\"<I\", data, 12)[0]\n",
        "    json_start = 20\n",
        "    json_end   = json_start + json_length\n",
        "    gltf = json.loads(data[json_start:json_end].decode(\"utf-8\"))\n",
        "    bin_chunk = None\n",
        "    if json_end + 8 <= len(data):\n",
        "        bin_length = struct.unpack_from(\"<I\", data, json_end)[0]\n",
        "        bin_type   = struct.unpack_from(\"<I\", data, json_end + 4)[0]\n",
        "        if bin_type == 0x004E4942:\n",
        "            bin_start = json_end + 8\n",
        "            bin_chunk = data[bin_start:bin_start+bin_length]\n",
        "    return gltf, bin_chunk\n",
        "\n",
        "def accessor_count(gltf, idx): return gltf[\"accessors\"][idx][\"count\"]\n",
        "\n",
        "def analyze_mesh(gltf):\n",
        "    total_v = 0; total_i = 0; prims = 0\n",
        "    bbmin = [None]*3; bbmax = [None]*3\n",
        "    for m in gltf.get(\"meshes\", []):\n",
        "        for p in m.get(\"primitives\", []):\n",
        "            prims += 1\n",
        "            attrs = p.get(\"attributes\", {})\n",
        "            if \"POSITION\" in attrs:\n",
        "                c = accessor_count(gltf, attrs[\"POSITION\"]); total_v += c\n",
        "                acc = gltf[\"accessors\"][attrs[\"POSITION\"]]\n",
        "                if \"min\" in acc and \"max\" in acc:\n",
        "                    for i in range(3):\n",
        "                        mn, mx = acc[\"min\"][i], acc[\"max\"][i]\n",
        "                        bbmin[i] = mn if bbmin[i] is None else min(bbmin[i], mn)\n",
        "                        bbmax[i] = mx if bbmax[i] is None else max(bbmax[i], mx)\n",
        "            if \"indices\" in p:\n",
        "                total_i += accessor_count(gltf, p[\"indices\"])\n",
        "    tri = total_i//3 if total_i else 0\n",
        "    bbsize = None\n",
        "    if all(v is not None for v in bbmin + bbmax):\n",
        "        bbsize = [bbmax[i]-bbmin[i] for i in range(3)]\n",
        "    return total_v, tri, prims, bbmin, bbmax, bbsize\n",
        "\n",
        "def material_texture_roles(gltf):\n",
        "    roles = []\n",
        "    tex_to_img = {i:t.get(\"source\") for i,t in enumerate(gltf.get(\"textures\", []))}\n",
        "    for midx, m in enumerate(gltf.get(\"materials\", [])):\n",
        "        r = {\"material\": midx, \"name\": m.get(\"name\")}\n",
        "        pbr = m.get(\"pbrMetallicRoughness\", {})\n",
        "        if \"baseColorTexture\" in pbr: r[\"baseColorTexture_image\"] = tex_to_img.get(pbr[\"baseColorTexture\"][\"index\"])\n",
        "        if \"metallicRoughnessTexture\" in pbr: r[\"metallicRoughnessTexture_image\"] = tex_to_img.get(pbr[\"metallicRoughnessTexture\"][\"index\"])\n",
        "        if \"normalTexture\" in m: r[\"normalTexture_image\"] = tex_to_img.get(m[\"normalTexture\"][\"index\"])\n",
        "        if \"occlusionTexture\" in m: r[\"occlusionTexture_image\"] = tex_to_img.get(m[\"occlusionTexture\"][\"index\"])\n",
        "        if \"emissiveTexture\" in m: r[\"emissiveTexture_image\"] = tex_to_img.get(m[\"emissiveTexture\"][\"index\"])\n",
        "        roles.append(r)\n",
        "    return roles\n",
        "\n",
        "def get_image_bytes(gltf, bin_chunk, img):\n",
        "    if \"uri\" in img and img[\"uri\"].startswith(\"data:\"):\n",
        "        b64 = img[\"uri\"].split(\";base64,\",1)[-1]\n",
        "        return base64.b64decode(b64)\n",
        "    if \"bufferView\" in img and bin_chunk is not None:\n",
        "        bv = gltf[\"bufferViews\"][img[\"bufferView\"]]\n",
        "        offset = bv.get(\"byteOffset\", 0)\n",
        "        size   = bv[\"byteLength\"]\n",
        "        return bin_chunk[offset:offset+size]\n",
        "    return None\n",
        "\n",
        "gltf, bin_chunk = parse_glb(abs_glb)\n",
        "v, f, prims, bbmin, bbmax, bbsize = analyze_mesh(gltf)\n",
        "roles = material_texture_roles(gltf)\n",
        "\n",
        "md = f\"\"\"\n",
        "**Mesh summary**\n",
        "\n",
        "- meshes: `{len(gltf.get('meshes', []))}` / primitives: `{prims}`\n",
        "- vertices: `{v}` / triangles: `{f}`\n",
        "- bbox min: `{bbmin}` / max: `{bbmax}` / size (xyz): `{bbsize}`\n",
        "\n",
        "**Materials**: `{len(gltf.get('materials', []))}`\n",
        "**Textures**: `{len(gltf.get('textures', []))}` / **Images**: `{len(gltf.get('images', []))}`\n",
        "\"\"\"\n",
        "display(Markdown(md))\n",
        "\n",
        "def html_table(rows, headers):\n",
        "    th = \"\".join(f\"<th>{h}</th>\" for h in headers)\n",
        "    trs = []\n",
        "    for r in rows:\n",
        "        tds = \"\".join(f\"<td>{r.get(h,'')}</td>\" for h in headers)\n",
        "        trs.append(f\"<tr>{tds}</tr>\")\n",
        "    return f\"<table style='border-collapse:collapse'><thead><tr>{th}</tr></thead><tbody>{''.join(trs)}</tbody></table>\"\n",
        "\n",
        "roles_headers = [\"material\",\"name\",\"baseColorTexture_image\",\"metallicRoughnessTexture_image\",\"normalTexture_image\",\"occlusionTexture_image\",\"emissiveTexture_image\"]\n",
        "display(HTML(\"<h4>Per-material texture roles</h4>\" + html_table(roles, roles_headers)))\n",
        "\n",
        "img_rows = []\n",
        "for i, img in enumerate(gltf.get(\"images\", [])):\n",
        "    raw = get_image_bytes(gltf, bin_chunk, img)\n",
        "    w = h = None\n",
        "    if raw:\n",
        "        try:\n",
        "            im = Image.open(io.BytesIO(raw))\n",
        "            w, h = im.size\n",
        "        except Exception:\n",
        "            pass\n",
        "    img_rows.append({\"image_index\": i, \"mimeType\": img.get(\"mimeType\"), \"width\": w, \"height\": h})\n",
        "display(HTML(\"<h4>Embedded images</h4>\" + html_table(img_rows, [\"image_index\",\"mimeType\",\"width\",\"height\"])))"
      ]
    },
    {
      "cell_type": "markdown",
      "id": "de1ab843",
      "metadata": {
        "id": "de1ab843"
      },
      "source": [
        "## Step 9 — 生成物のダウンロード"
      ]
    },
    {
      "cell_type": "code",
      "execution_count": null,
      "id": "f57594ac",
      "metadata": {
        "id": "f57594ac"
      },
      "outputs": [],
      "source": [
        "from google.colab import files\n",
        "files.download(abs_glb)"
      ]
    }
  ],
  "metadata": {
    "colab": {
      "provenance": []
    }
  },
  "nbformat": 4,
  "nbformat_minor": 5
}